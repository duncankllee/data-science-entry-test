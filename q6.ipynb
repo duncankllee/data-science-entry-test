{
 "cells": [
  {
   "cell_type": "code",
   "execution_count": 8,
   "id": "fb08bc68",
   "metadata": {},
   "outputs": [
    {
     "name": "stdout",
     "output_type": "stream",
     "text": [
      "Scenario 1: [3, 5, -1, 7, -2, 8]\n",
      "Result: -1\n",
      "\n",
      "Scenario 2: [2, 10, 7, 0]\n",
      "Result: No negatives\n"
     ]
    }
   ],
   "source": [
    "def find_first_negative(lst):\n",
    "    \"\"\"\n",
    "    Task 1\n",
    "    - Create a function that finds the first negative number in a list (lst).\n",
    "    - Return the first negative number if found, otherwise return \"No negatives\".\n",
    "    - Use a while loop to implement this.\n",
    "    \"\"\"\n",
    "    # Initialize index for while loop\n",
    "    index = 0\n",
    "    \n",
    "    # Use while loop to iterate through the list\n",
    "    while index < len(lst):\n",
    "        # Check if current element is negative\n",
    "        if lst[index] < 0:\n",
    "            return lst[index]\n",
    "        index += 1\n",
    "    \n",
    "    # If no negative number found\n",
    "    return \"No negatives\"\n",
    "\n",
    "\n",
    "# Task 2\n",
    "# Invoke the function \"find_first_negative\" using the following scenario:\n",
    "list1 = [3, 5, -1, 7, -2, 8]\n",
    "print(\"Scenario 1:\", list1)\n",
    "print(f\"Result: {find_first_negative(list1)}\\n\")\n",
    "\n",
    "list2 = [2, 10, 7, 0]\n",
    "print(\"Scenario 2:\",list2)\n",
    "print(f\"Result: {find_first_negative(list2)}\")"
   ]
  },
  {
   "cell_type": "code",
   "execution_count": null,
   "id": "3c039e68-7cd2-441e-beb0-cc45d31702d8",
   "metadata": {},
   "outputs": [],
   "source": []
  }
 ],
 "metadata": {
  "kernelspec": {
   "display_name": "Python 3 (ipykernel)",
   "language": "python",
   "name": "python3"
  },
  "language_info": {
   "codemirror_mode": {
    "name": "ipython",
    "version": 3
   },
   "file_extension": ".py",
   "mimetype": "text/x-python",
   "name": "python",
   "nbconvert_exporter": "python",
   "pygments_lexer": "ipython3",
   "version": "3.13.5"
  }
 },
 "nbformat": 4,
 "nbformat_minor": 5
}
