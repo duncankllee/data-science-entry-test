{
 "cells": [
  {
   "cell_type": "code",
   "execution_count": 2,
   "id": "79eff5f7",
   "metadata": {},
   "outputs": [
    {
     "name": "stdout",
     "output_type": "stream",
     "text": [
      "Creating car instance and calling describe_car():\n",
      "2020 Toyota Corolla\n"
     ]
    }
   ],
   "source": [
    "class Car:\n",
    "    \"\"\"\n",
    "    Task 1\n",
    "    - Define a class named Car with attributes: make, model, year\n",
    "    - Initialize these attributes in the __init__ method\n",
    "    - Add a method named describe_car() that prints information about the car as \"Year Make Model\"\n",
    "    \"\"\"\n",
    "\n",
    "    def __init__(self, make, model, year):\n",
    "        \"\"\"\n",
    "        Initialize the Car with make, model, and year attributes\n",
    "        \"\"\"\n",
    "        self.make = make\n",
    "        self.model = model\n",
    "        self.year = year\n",
    "\n",
    "    def describe_car(self):\n",
    "        \"\"\"\n",
    "        Print car information in \"Year Make Model\" format\n",
    "        \"\"\"\n",
    "        print(f\"{self.year} {self.make} {self.model}\")\n",
    "\n",
    "\n",
    "# Task 2\n",
    "# Create an instance of the Car class with the following attributes and call describe_car method:\n",
    "# - Make: Toyota, Model: Corolla, Year: 2020\n",
    "print(\"Creating car instance and calling describe_car():\")\n",
    "my_car = Car(\"Toyota\", \"Corolla\", 2020)\n",
    "my_car.describe_car()"
   ]
  },
  {
   "cell_type": "code",
   "execution_count": null,
   "id": "e53f499c",
   "metadata": {},
   "outputs": [],
   "source": []
  }
 ],
 "metadata": {
  "kernelspec": {
   "display_name": "Python 3 (ipykernel)",
   "language": "python",
   "name": "python3"
  },
  "language_info": {
   "codemirror_mode": {
    "name": "ipython",
    "version": 3
   },
   "file_extension": ".py",
   "mimetype": "text/x-python",
   "name": "python",
   "nbconvert_exporter": "python",
   "pygments_lexer": "ipython3",
   "version": "3.13.5"
  }
 },
 "nbformat": 4,
 "nbformat_minor": 5
}
