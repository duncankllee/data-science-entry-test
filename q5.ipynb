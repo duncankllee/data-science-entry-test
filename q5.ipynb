{
 "cells": [
  {
   "cell_type": "code",
   "execution_count": 1,
   "id": "97b30f91",
   "metadata": {},
   "outputs": [
    {
     "name": "stdout",
     "output_type": "stream",
     "text": [
      "Scenario 1: 10, 2\n",
      "Result: True\n",
      "\n",
      "Scenario 2: 7, 3\n",
      "Result: False\n"
     ]
    }
   ],
   "source": [
    "def check_divisibility(num, divisor):\n",
    "    \"\"\"\n",
    "    Task 1\n",
    "    - Create a function to check if the number (num) is divisible by another number (divisor).\n",
    "    - Both num and divisor must be numeric.\n",
    "    - Return True if num is divisible by divisor, False otherwise.\n",
    "    \"\"\"\n",
    "    # Check if both num and divisor are numeric\n",
    "    if not (isinstance(num, (int, float)) and isinstance(divisor, (int, float))):\n",
    "        return \"Error: Both num and divisor must be numeric\"\n",
    "    \n",
    "    # Check if divisor is zero to avoid division by zero error\n",
    "    if divisor == 0:\n",
    "        return \"Error: Divisor cannot be zero\"\n",
    "    \n",
    "    # Check divisibility using modulo operator\n",
    "    if num % divisor == 0:\n",
    "        return True\n",
    "    else:\n",
    "        return False\n",
    "\n",
    "\n",
    "# Task 2\n",
    "# Invoke the function \"check_divisibility\" using the following scenarios:\n",
    "print(\"Scenario 1: 10, 2\")\n",
    "result1 = check_divisibility(10, 2)\n",
    "print(f\"Result: {result1}\\n\")\n",
    "\n",
    "print(\"Scenario 2: 7, 3\")\n",
    "result2 = check_divisibility(7, 3)\n",
    "print(f\"Result: {result2}\")"
   ]
  },
  {
   "cell_type": "code",
   "execution_count": null,
   "id": "371f0cc3",
   "metadata": {},
   "outputs": [],
   "source": []
  }
 ],
 "metadata": {
  "kernelspec": {
   "display_name": "Python 3 (ipykernel)",
   "language": "python",
   "name": "python3"
  },
  "language_info": {
   "codemirror_mode": {
    "name": "ipython",
    "version": 3
   },
   "file_extension": ".py",
   "mimetype": "text/x-python",
   "name": "python",
   "nbconvert_exporter": "python",
   "pygments_lexer": "ipython3",
   "version": "3.11.7"
  }
 },
 "nbformat": 4,
 "nbformat_minor": 5
}
