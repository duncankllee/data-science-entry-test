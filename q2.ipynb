{
 "cells": [
  {
   "cell_type": "code",
   "execution_count": 11,
   "id": "d3f1af14",
   "metadata": {},
   "outputs": [
    {
     "name": "stdout",
     "output_type": "stream",
     "text": [
      "Scenario 1: Original list: [1, 2, 3, 4, 2, 2], Find: 2, Replace: 5\n",
      "Modified list: [1, 5, 3, 4, 5, 5]\n",
      "\n",
      "Scenario 2: Original list: ['apple', 'banana', 'apple'], Find: 'apple', Replace: 'orange'\n",
      "Modified list: ['orange', 'banana', 'orange']\n"
     ]
    }
   ],
   "source": [
    "def find_and_replace(lst, find_val, replace_val):\n",
    "    \"\"\"\n",
    "    Task 1\n",
    "    - Create a function that searches for all occurrences of a value (find_val) in a given list (lst) and replaces them with another value (replace_val).\n",
    "    - lst must be a list.\n",
    "    - Return the modified list.\n",
    "    \"\"\"\n",
    "    if not isinstance(lst, list):\n",
    "        return \"Error: Input is not a list.\"\n",
    "\n",
    "    for i in range(len(lst)):\n",
    "        if lst[i] == find_val:\n",
    "            lst[i] = replace_val\n",
    "    return lst\n",
    "\n",
    "\n",
    "# Task 2\n",
    "# Invoke the function \"find_and_replace\" using the following scenarios:\n",
    "# - [1, 2, 3, 4, 2, 2], 2, 5\n",
    "# - [\"apple\", \"banana\", \"apple\"], \"apple\", \"orange\"\n",
    "\n",
    "scenario1_list = [1, 2, 3, 4, 2, 2]\n",
    "print(f\"Scenario 1: Original list: {scenario1_list}, Find: 2, Replace: 5\")\n",
    "modified_list1 = find_and_replace(scenario1_list, 2, 5)\n",
    "print(f\"Modified list: {modified_list1}\\n\")\n",
    "\n",
    "scenario2_list = [\"apple\", \"banana\", \"apple\"]\n",
    "print(f\"Scenario 2: Original list: {scenario2_list}, Find: 'apple', Replace: 'orange'\")\n",
    "modified_list2 = find_and_replace(scenario2_list, \"apple\", \"orange\")\n",
    "print(f\"Modified list: {modified_list2}\")"
   ]
  },
  {
   "cell_type": "code",
   "execution_count": null,
   "id": "0a868f7b",
   "metadata": {},
   "outputs": [],
   "source": []
  }
 ],
 "metadata": {
  "kernelspec": {
   "display_name": "Python 3 (ipykernel)",
   "language": "python",
   "name": "python3"
  },
  "language_info": {
   "codemirror_mode": {
    "name": "ipython",
    "version": 3
   },
   "file_extension": ".py",
   "mimetype": "text/x-python",
   "name": "python",
   "nbconvert_exporter": "python",
   "pygments_lexer": "ipython3",
   "version": "3.11.7"
  }
 },
 "nbformat": 4,
 "nbformat_minor": 5
}
