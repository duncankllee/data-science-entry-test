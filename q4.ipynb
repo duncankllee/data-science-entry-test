{
 "cells": [
  {
   "cell_type": "code",
   "execution_count": 10,
   "id": "dd2beb41",
   "metadata": {},
   "outputs": [
    {
     "name": "stdout",
     "output_type": "stream",
     "text": [
      "Scenario 1: 'Hello World'\n",
      "Reversed string: 'dlroW olleH'\n",
      "\n",
      "Scenario 2: 'Python'\n",
      "Reversed string: 'nohtyP'\n"
     ]
    }
   ],
   "source": [
    "def string_reverse(s):\n",
    "    \"\"\"\n",
    "    Task 1\n",
    "    - Create a function that reverses a given string (s).\n",
    "    - s must be a string.\n",
    "    - Return the reversed string.\n",
    "    \"\"\"\n",
    "    # Check if s is a string\n",
    "    if not isinstance(s, str):\n",
    "        return \"Error: Input must be a string\"\n",
    "    \n",
    "    # Reverse the string using slicing\n",
    "    reversed_string = s[::-1]\n",
    "    \n",
    "    return reversed_string\n",
    "\n",
    "\n",
    "# Task 2\n",
    "# Invoke the function \"string_reverse\" using the following scenarios:\n",
    "string1 = \"Hello World\"\n",
    "print(f\"Scenario 1: '{string1}'\")\n",
    "print(f\"Reversed string: '{string_reverse(string1)}'\\n\")\n",
    "\n",
    "string2 = 'Python'\n",
    "print(f\"Scenario 2: '{string2}'\")\n",
    "print(f\"Reversed string: '{string_reverse(string2)}'\")"
   ]
  },
  {
   "cell_type": "code",
   "execution_count": null,
   "id": "3dbd5eee",
   "metadata": {},
   "outputs": [],
   "source": []
  }
 ],
 "metadata": {
  "kernelspec": {
   "display_name": "Python 3 (ipykernel)",
   "language": "python",
   "name": "python3"
  },
  "language_info": {
   "codemirror_mode": {
    "name": "ipython",
    "version": 3
   },
   "file_extension": ".py",
   "mimetype": "text/x-python",
   "name": "python",
   "nbconvert_exporter": "python",
   "pygments_lexer": "ipython3",
   "version": "3.11.7"
  }
 },
 "nbformat": 4,
 "nbformat_minor": 5
}
