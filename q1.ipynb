{
 "cells": [
  {
   "cell_type": "code",
   "execution_count": 1,
   "id": "44c98214",
   "metadata": {},
   "outputs": [
    {
     "name": "stdout",
     "output_type": "stream",
     "text": [
      "Scenario 1: 'Apple', 10\n",
      "Return value: -1\n",
      "\n",
      "Scenario 2: 9, 17\n",
      "Swapped values: x = 17, y = 9\n",
      "Return value: None\n"
     ]
    }
   ],
   "source": [
    "def swap(x, y):\n",
    "    \"\"\"\n",
    "    Task 1\n",
    "    - Create a function that would swap the value of x and y using only x and y as variables.\n",
    "    - x and y must be numeric.\n",
    "    - Return -1 if x and y is not numeric, and\n",
    "    - print the swapped values if both x and y are numeric.\n",
    "    \"\"\"\n",
    "    # Check if both x and y are numeric\n",
    "    if not (isinstance(x, (int, float)) and isinstance(y, (int, float))):\n",
    "        return -1\n",
    "    \n",
    "    # Swap using only x and y variables\n",
    "    x = x + y\n",
    "    y = x - y\n",
    "    x = x - y\n",
    "    \n",
    "    # Print the swapped values\n",
    "    print(f\"Swapped values: x = {x}, y = {y}\")\n",
    "    return\n",
    "\n",
    "\n",
    "# Task 2\n",
    "# Invoke the function \"swap\" using the following scenarios:\n",
    "print(\"Scenario 1: 'Apple', 10\")\n",
    "result1 = swap(\"Apple\", 10)\n",
    "print(f\"Return value: {result1}\\n\")\n",
    "\n",
    "print(\"Scenario 2: 9, 17\")\n",
    "result2 = swap(9, 17)\n",
    "print(f\"Return value: {result2}\")"
   ]
  },
  {
   "cell_type": "code",
   "execution_count": null,
   "id": "5bd20c34",
   "metadata": {},
   "outputs": [],
   "source": []
  }
 ],
 "metadata": {
  "kernelspec": {
   "display_name": "Python 3 (ipykernel)",
   "language": "python",
   "name": "python3"
  },
  "language_info": {
   "codemirror_mode": {
    "name": "ipython",
    "version": 3
   },
   "file_extension": ".py",
   "mimetype": "text/x-python",
   "name": "python",
   "nbconvert_exporter": "python",
   "pygments_lexer": "ipython3",
   "version": "3.13.5"
  }
 },
 "nbformat": 4,
 "nbformat_minor": 5
}
