{
 "cells": [
  {
   "cell_type": "code",
   "execution_count": 1,
   "id": "7ec29e2b",
   "metadata": {},
   "outputs": [
    {
     "name": "stdout",
     "output_type": "stream",
     "text": [
      "Scenario 1: {}, 'name', 'Alice'\n",
      "Updated dictionary: {'name': 'Alice'}\n",
      "\n",
      "Scenario 2: {'age': 25}, 'age', 26\n",
      "Key 'age' already exists with value: 25\n",
      "Updated dictionary: {'age': 26}\n"
     ]
    }
   ],
   "source": [
    "def update_dictionary(dct, key, value):\n",
    "    \"\"\"\n",
    "    Task 1\n",
    "    - Create a function that updates a dictionary (dct) with a new key-value pair.\n",
    "    - If the key already exists in dct, print the original value, then update its value.\n",
    "    - Return the updated dictionary.\n",
    "    \"\"\"\n",
    "    # Check if key already exists in the dictionary\n",
    "    if key in dct:\n",
    "        print(f\"Key '{key}' already exists with value: {dct[key]}\")\n",
    "    \n",
    "    # Update the dictionary with the new key-value pair\n",
    "    dct[key] = value\n",
    "    \n",
    "    return dct\n",
    "\n",
    "\n",
    "# Task 2\n",
    "# Invoke the function \"update_dictionary\" using the following scenarios:\n",
    "print(\"Scenario 1: {}, 'name', 'Alice'\")\n",
    "result1 = update_dictionary({}, \"name\", \"Alice\")\n",
    "print(f\"Updated dictionary: {result1}\\n\")\n",
    "\n",
    "print(\"Scenario 2: {'age': 25}, 'age', 26\")\n",
    "result2 = update_dictionary({\"age\": 25}, \"age\", 26)\n",
    "print(f\"Updated dictionary: {result2}\")"
   ]
  },
  {
   "cell_type": "code",
   "execution_count": null,
   "id": "f9d9ead8",
   "metadata": {},
   "outputs": [],
   "source": []
  }
 ],
 "metadata": {
  "kernelspec": {
   "display_name": "Python 3 (ipykernel)",
   "language": "python",
   "name": "python3"
  },
  "language_info": {
   "codemirror_mode": {
    "name": "ipython",
    "version": 3
   },
   "file_extension": ".py",
   "mimetype": "text/x-python",
   "name": "python",
   "nbconvert_exporter": "python",
   "pygments_lexer": "ipython3",
   "version": "3.11.7"
  }
 },
 "nbformat": 4,
 "nbformat_minor": 5
}
